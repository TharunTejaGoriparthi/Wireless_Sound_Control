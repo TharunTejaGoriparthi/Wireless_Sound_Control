{
 "cells": [
  {
   "cell_type": "code",
   "execution_count": 1,
   "id": "e7375fdc",
   "metadata": {},
   "outputs": [
    {
     "name": "stdout",
     "output_type": "stream",
     "text": [
      "WARNING:tensorflow:From C:\\Users\\tejat\\AppData\\Roaming\\Python\\Python39\\site-packages\\keras\\src\\losses.py:2976: The name tf.losses.sparse_softmax_cross_entropy is deprecated. Please use tf.compat.v1.losses.sparse_softmax_cross_entropy instead.\n",
      "\n"
     ]
    }
   ],
   "source": [
    "import cv2\n",
    "import mediapipe as mp\n",
    "import time"
   ]
  },
  {
   "cell_type": "code",
   "execution_count": 3,
   "id": "c285618f",
   "metadata": {},
   "outputs": [
    {
     "name": "stdout",
     "output_type": "stream",
     "text": [
      "[4, 243, 348]\n",
      "[4, 242, 347]\n",
      "[4, 253, 346]\n",
      "[4, 252, 345]\n",
      "[4, 259, 345]\n",
      "[4, 258, 345]\n",
      "[4, 257, 344]\n",
      "[4, 263, 338]\n",
      "[4, 262, 336]\n",
      "[4, 265, 332]\n",
      "[4, 257, 332]\n",
      "[4, 257, 330]\n",
      "[4, 257, 331]\n",
      "[4, 205, 309]\n",
      "[4, 206, 310]\n",
      "[4, 194, 276]\n",
      "[4, 194, 268]\n",
      "[4, 194, 270]\n",
      "[4, 198, 276]\n",
      "[4, 198, 275]\n",
      "[4, 198, 275]\n",
      "[4, 204, 285]\n",
      "[4, 205, 285]\n",
      "[4, 201, 290]\n",
      "[4, 201, 289]\n",
      "[4, 201, 289]\n",
      "[4, 199, 294]\n",
      "[4, 199, 293]\n",
      "[4, 199, 293]\n",
      "[4, 198, 295]\n",
      "[4, 198, 287]\n",
      "[4, 198, 287]\n",
      "[4, 197, 287]\n",
      "[4, 200, 285]\n",
      "[4, 200, 286]\n",
      "[4, 197, 287]\n",
      "[4, 198, 286]\n",
      "[4, 198, 287]\n",
      "[4, 193, 284]\n"
     ]
    }
   ],
   "source": [
    "class handDetector():\n",
    "    def __init__(self, mode=False, maxHands = 2, detectionCon=0.5, trackCon=0.5):\n",
    "        self.mode = mode\n",
    "        self.maxHands = maxHands\n",
    "        self.detectionCon = detectionCon\n",
    "        self.trackCon = trackCon\n",
    "        \n",
    "        self.mpHands = mp.solutions.hands\n",
    "        self.hands = self.mpHands.Hands(static_image_mode=self.mode, max_num_hands=self.maxHands, min_detection_confidence=self.detectionCon,min_tracking_confidence=self.trackCon)\n",
    "        \n",
    "        self.mpDraw = mp.solutions.drawing_utils\n",
    "\n",
    "    def findHands(self, img, draw = True):\n",
    "        imgRGB = cv2.cvtColor(img, cv2.COLOR_BGR2RGB)\n",
    "        self.results = self.hands.process(imgRGB)\n",
    "        \n",
    "        if self.results.multi_hand_landmarks:\n",
    "            for handLms in self.results.multi_hand_landmarks:\n",
    "                if draw:\n",
    "                    self.mpDraw.draw_landmarks(img, handLms, self.mpHands.HAND_CONNECTIONS)\n",
    "        return img\n",
    "    def findPosition(self, img, handNo=0, draw=True):\n",
    "        lmList = []\n",
    "        if self.results.multi_hand_landmarks:\n",
    "            myHand = self.results.multi_hand_landmarks[handNo]\n",
    "            for id, lm in enumerate(myHand.landmark):\n",
    "                h, w, c = img.shape\n",
    "                cx, cy = int(lm.x * w), int(lm.y * h)\n",
    "                lmList.append([id, cx, cy])\n",
    "                if draw:\n",
    "                    cv2.circle(img, (cx, cy), 15, (255,0,255), cv2.FILLED)\n",
    "        return lmList\n",
    "    \n",
    "def main():\n",
    "    pTime = 0\n",
    "    cTime = 0\n",
    "    cap = cv2.VideoCapture(0)\n",
    "    detector = handDetector()\n",
    "    while True:\n",
    "        success, img = cap.read()\n",
    "        img = detector.findHands(img)\n",
    "        lmList = detector.findPosition(img)\n",
    "        if len(lmList) != 0:\n",
    "            print(lmList[4])\n",
    "        cTime = time.time()\n",
    "        fps = 1 / (cTime - pTime)\n",
    "        pTime = cTime\n",
    "\n",
    "        cv2.putText(img, str(int(fps)), (10, 70), cv2.FONT_HERSHEY_PLAIN, 3, (255, 0, 255), 3)\n",
    "        cv2.imshow(\"Image\", img)\n",
    "        if cv2.waitKey(1) & 0xFF == ord('q'):\n",
    "            break\n",
    "    cap.release()\n",
    "    cv2.destroyAllWindows()\n",
    "if __name__ == \"__main__\":\n",
    "    main()"
   ]
  },
  {
   "cell_type": "code",
   "execution_count": null,
   "id": "64fc2571",
   "metadata": {},
   "outputs": [],
   "source": []
  }
 ],
 "metadata": {
  "kernelspec": {
   "display_name": "Python 3 (ipykernel)",
   "language": "python",
   "name": "python3"
  },
  "language_info": {
   "codemirror_mode": {
    "name": "ipython",
    "version": 3
   },
   "file_extension": ".py",
   "mimetype": "text/x-python",
   "name": "python",
   "nbconvert_exporter": "python",
   "pygments_lexer": "ipython3",
   "version": "3.9.13"
  }
 },
 "nbformat": 4,
 "nbformat_minor": 5
}
