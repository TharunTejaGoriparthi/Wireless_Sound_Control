{
 "cells": [
  {
   "cell_type": "code",
   "execution_count": null,
   "id": "dbda5340",
   "metadata": {},
   "outputs": [],
   "source": [
    "pip install nbimporter"
   ]
  },
  {
   "cell_type": "code",
   "execution_count": null,
   "id": "93a55426",
   "metadata": {},
   "outputs": [],
   "source": [
    "pip install pynput"
   ]
  },
  {
   "cell_type": "code",
   "execution_count": null,
   "id": "eb6d700a",
   "metadata": {},
   "outputs": [],
   "source": [
    "import cv2\n",
    "import time\n",
    "import numpy as np\n",
    "import nbimporter\n",
    "import HandTrackingModule as htm\n",
    "import math"
   ]
  },
  {
   "cell_type": "code",
   "execution_count": null,
   "id": "04e78b43",
   "metadata": {},
   "outputs": [],
   "source": [
    "from pynput.keyboard import Key, Controller\n",
    "keyboard = Controller()"
   ]
  },
  {
   "cell_type": "code",
   "execution_count": null,
   "id": "39f85927",
   "metadata": {},
   "outputs": [],
   "source": [
    "wCam, hCam = 1280, 720"
   ]
  },
  {
   "cell_type": "code",
   "execution_count": null,
   "id": "ca33a97c",
   "metadata": {},
   "outputs": [],
   "source": [
    "cap = cv2.VideoCapture(0)\n",
    "cap.set(3,wCam)\n",
    "cap.set(4,hCam)\n",
    "pTime = 0\n",
    "\n",
    "detector = htm.handDetector(detectionCon = 0.7)\n",
    "last_angle = None\n",
    "last_length = None\n",
    "\n",
    "minAngle = 0\n",
    "maxAngle = 180\n",
    "angle = 0\n",
    "angleBar = 400\n",
    "angleDeg = 0\n",
    "minHand = 50\n",
    "maxHand = 300\n",
    "\n",
    "while True:\n",
    "    success, img = cap.read()\n",
    "    img = detector.findHands(img)\n",
    "    lmList = detector.findPosition(img, draw = False)\n",
    "    if(len(lmList) != 0):\n",
    "        x1, y1 = lmList[4][1], lmList[4][2]\n",
    "        x2, y2 = lmList[8][1], lmList[8][2]\n",
    "        cx, cy = (x1 + x2) // 2, (y1 + y2) // 2\n",
    "        \n",
    "        cv2.circle(img, (x1, y1), 15, (0, 0, 255), cv2.FILLED)\n",
    "        cv2.circle(img, (x2, y2), 15, (0, 0, 255), cv2.FILLED)\n",
    "        cv2.line(img, (x1, y1), (x2, y2), (0, 0, 255), 3)\n",
    "        cv2.circle(img, (cx, cy), 15, (0, 0, 255), cv2.FILLED)\n",
    "        \n",
    "        length = math.hypot(x2 - x1, y2 - y1)\n",
    "        \n",
    "        angle = np.interp(length, [minHand, maxHand], [minAngle, maxAngle])\n",
    "        angleBar = np.interp(length, [minHand, maxHand], [400, 150])\n",
    "        angleDeg = np.interp(length, [minHand, maxHand], [0, 180])\n",
    "        \n",
    "        if last_length:\n",
    "            if length > last_length:\n",
    "                keyboard.press(Key.media_volume_up)\n",
    "                keyboard.release(Key.media_volume_up)\n",
    "                print(\"VOL UP\")\n",
    "            elif length < last_length:\n",
    "                keyboard.press(Key.media_volume_down)\n",
    "                keyboard.release(Key.media_volume_down)\n",
    "                print(\"VOL DOWN\")\n",
    "        last_angle = angle\n",
    "        last_length = length\n",
    "        \n",
    "        if length < 50:\n",
    "            cv2.circle(img, (cx, cy), 15, (0, 255, 0), cv2.FILLED)\n",
    "    cv2.rectangle(img, (50, 150), (85, 400), (255, 0, 0), 3)\n",
    "    cv2.rectangle(img, (50, int(angleBar)), (85, 400), (255, 0, 0), cv2.FILLED)\n",
    "    cv2.putText(img, f'{int(angleDeg)} deg', (40, 90), cv2.FONT_HERSHEY_COMPLEX, 2, (0, 9, 255), 3)\n",
    "    cv2.imshow(\"Img\", img)\n",
    "    if cv2.waitKey(10) & 0xFF == ord('q'):\n",
    "        break\n",
    "cap.release()\n",
    "cv2.destroyAllWindows()"
   ]
  },
  {
   "cell_type": "code",
   "execution_count": null,
   "id": "247c1c6c",
   "metadata": {},
   "outputs": [],
   "source": []
  }
 ],
 "metadata": {
  "kernelspec": {
   "display_name": "Python 3 (ipykernel)",
   "language": "python",
   "name": "python3"
  },
  "language_info": {
   "codemirror_mode": {
    "name": "ipython",
    "version": 3
   },
   "file_extension": ".py",
   "mimetype": "text/x-python",
   "name": "python",
   "nbconvert_exporter": "python",
   "pygments_lexer": "ipython3",
   "version": "3.9.13"
  }
 },
 "nbformat": 4,
 "nbformat_minor": 5
}
